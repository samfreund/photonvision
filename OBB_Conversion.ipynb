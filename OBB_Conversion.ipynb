{
  "nbformat": 4,
  "nbformat_minor": 0,
  "metadata": {
    "colab": {
      "provenance": [],
      "authorship_tag": "ABX9TyOiTwF/g+DRo1dKxhCnmm8a",
      "include_colab_link": true
    },
    "kernelspec": {
      "name": "python3",
      "display_name": "Python 3"
    },
    "language_info": {
      "name": "python"
    }
  },
  "cells": [
    {
      "cell_type": "markdown",
      "metadata": {
        "id": "view-in-github",
        "colab_type": "text"
      },
      "source": [
        "<a href=\"https://colab.research.google.com/github/samfreund/photonvision/blob/bump-rubik/OBB_Conversion.ipynb\" target=\"_parent\"><img src=\"https://colab.research.google.com/assets/colab-badge.svg\" alt=\"Open In Colab\"/></a>"
      ]
    },
    {
      "cell_type": "code",
      "execution_count": null,
      "metadata": {
        "id": "lj_ZRHYEIYS2"
      },
      "outputs": [],
      "source": [
        "!pip install qai_hub torch ultralytics"
      ]
    },
    {
      "cell_type": "code",
      "source": [
        "!wget https://github.com/ultralytics/assets/releases/download/v8.3.0/yolo11n-obb.pt"
      ],
      "metadata": {
        "id": "R5fa3REKOebS"
      },
      "execution_count": null,
      "outputs": []
    },
    {
      "cell_type": "code",
      "source": [
        "import qai_hub as hub\n",
        "import torch\n",
        "from ultralytics import YOLO\n",
        "from qai_hub.client import UserError\n",
        "\n",
        "try:\n",
        "  hub.set_session_token(\"y2ag1bqe0jc11ercxzg38gkv0uql64co226fa9n3\")\n",
        "except:\n",
        "  print(\"Token already configured, skipping\")\n",
        "\n",
        "# Using pre-trained MobileNet\n",
        "torch_model = YOLO(\"/content/yolo11n-obb.pt\")\n",
        "torch_model.model.eval()\n",
        "\n",
        "# Step 1: Trace model\n",
        "input_shape = (1, 3, 640, 640)\n",
        "example_input = torch.rand(input_shape)\n",
        "with torch.no_grad():\n",
        "    traced_model = torch.jit.trace(torch_model.model, example_input, strict=False,\n",
        "    check_inputs=[])\n",
        "\n",
        "# Step 2: Compile model\n",
        "compile_job = hub.submit_compile_job(\n",
        "    model=traced_model,\n",
        "    device=hub.Device(\"RB3 Gen 2 (Proxy)\"),\n",
        "    input_specs=dict(image=input_shape),\n",
        "     options=\"--target_runtime tflite\",\n",
        ")\n",
        "\n",
        "# Step 3: Download model\n",
        "target_model = compile_job.get_target_model()\n",
        "target_model.download(\"wheeeee.tflite\")"
      ],
      "metadata": {
        "id": "g2dVKm7jMkro"
      },
      "execution_count": null,
      "outputs": []
    }
  ]
}